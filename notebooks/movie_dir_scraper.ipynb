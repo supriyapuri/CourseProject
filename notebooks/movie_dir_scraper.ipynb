{
 "cells": [
  {
   "cell_type": "markdown",
   "metadata": {},
   "source": [
    "# Top 100 Movie in 2021 Scraping "
   ]
  },
  {
   "cell_type": "markdown",
   "metadata": {},
   "source": [
    "## System setup \n",
    "\n",
    "Before we start, make sure to install the required libraries\n",
    "    \n",
    "    pip install bs4\n",
    "    pip install selenium\n",
    "\n",
    "Since the website has some javascript rendered HTML content, we'll be using Selenium for scraping the content loaded dynamically by javascript. For this,you would also need to download a selenium supported browser webdriver.\n",
    "\n",
    "e.g. For Chrome, download the appropriate webdriver from here: http://chromedriver.chromium.org/downloads, unzip it and save in current directory."
   ]
  },
  {
   "cell_type": "code",
   "execution_count": 8,
   "metadata": {},
   "outputs": [],
   "source": [
    "from bs4 import BeautifulSoup\n",
    "from selenium import webdriver \n",
    "from selenium.webdriver.chrome.options import Options\n",
    "import re \n",
    "import urllib\n",
    "import time"
   ]
  },
  {
   "cell_type": "markdown",
   "metadata": {},
   "source": [
    "## Input URL "
   ]
  },
  {
   "cell_type": "code",
   "execution_count": 9,
   "metadata": {},
   "outputs": [],
   "source": [
    "dir_url = 'https://www.rottentomatoes.com/top/bestofrt/?year=2021'\n",
    "base_url = 'https://www.rottentomatoes.com'"
   ]
  },
  {
   "cell_type": "code",
   "execution_count": 10,
   "metadata": {},
   "outputs": [],
   "source": [
    "#create a webdriver object and set options for headless browsing\n",
    "options = Options()\n",
    "options.headless = True\n",
    "driver = webdriver.Chrome('./chromedriver',options=options)"
   ]
  },
  {
   "cell_type": "code",
   "execution_count": 11,
   "metadata": {},
   "outputs": [],
   "source": [
    "#uses webdriver object to execute javascript code and get dynamically loaded webcontent\n",
    "def get_js_soup(url,driver):\n",
    "    driver.get(url)\n",
    "    res_html = driver.execute_script('return document.body.innerHTML')\n",
    "    soup = BeautifulSoup(res_html,'html.parser') #beautiful soup object to be used for parsing html content\n",
    "    return soup"
   ]
  },
  {
   "cell_type": "code",
   "execution_count": 12,
   "metadata": {},
   "outputs": [],
   "source": [
    "def scrape_dir_page(dir_url,driver):\n",
    "    print ('-'*20,'Scraping directory page','-'*20)\n",
    "    movie_links = []\n",
    "    soup = get_js_soup(dir_url,driver)\n",
    "    table = soup.find('table', class_='table')\n",
    "    for link_holder in table.find_all('a',class_='unstyled articleLink'): #get list of all <div> of class 'name'\n",
    "#         print(link_holder)\n",
    "        link = link_holder['href'] #get url\n",
    "        #url returned is relative, so we need to add base url\n",
    "        movie_links.append(base_url + link) \n",
    "    print ('-'*20,'Found {} movie urls'.format(len(movie_links)),'-'*20)\n",
    "    return movie_links"
   ]
  },
  {
   "cell_type": "markdown",
   "metadata": {},
   "source": [
    "It might take a few minutes to get all the urls"
   ]
  },
  {
   "cell_type": "code",
   "execution_count": 13,
   "metadata": {},
   "outputs": [
    {
     "name": "stdout",
     "output_type": "stream",
     "text": [
      "-------------------- Scraping directory page --------------------\n",
      "-------------------- Found 100 movie urls --------------------\n"
     ]
    }
   ],
   "source": [
    "movie_links = scrape_dir_page(dir_url,driver)"
   ]
  },
  {
   "cell_type": "code",
   "execution_count": 14,
   "metadata": {},
   "outputs": [
    {
     "data": {
      "text/plain": [
       "['https://www.rottentomatoes.com/m/nomadland',\n",
       " 'https://www.rottentomatoes.com/m/judas_and_the_black_messiah',\n",
       " 'https://www.rottentomatoes.com/m/the_father_2021',\n",
       " 'https://www.rottentomatoes.com/m/in_the_heights_2021',\n",
       " 'https://www.rottentomatoes.com/m/summer_of_soul',\n",
       " 'https://www.rottentomatoes.com/m/pig_2021',\n",
       " 'https://www.rottentomatoes.com/m/coda_2021',\n",
       " 'https://www.rottentomatoes.com/m/raya_and_the_last_dragon',\n",
       " 'https://www.rottentomatoes.com/m/a_quiet_place_part_ii',\n",
       " 'https://www.rottentomatoes.com/m/the_mitchells_vs_the_machines',\n",
       " 'https://www.rottentomatoes.com/m/shang_chi_and_the_legend_of_the_ten_rings',\n",
       " 'https://www.rottentomatoes.com/m/the_suicide_squad',\n",
       " 'https://www.rottentomatoes.com/m/mlk_fbi',\n",
       " 'https://www.rottentomatoes.com/m/shiva_baby',\n",
       " 'https://www.rottentomatoes.com/m/luca_2021',\n",
       " 'https://www.rottentomatoes.com/m/quo_vadis_aida',\n",
       " 'https://www.rottentomatoes.com/m/identifying_features',\n",
       " 'https://www.rottentomatoes.com/m/slalom',\n",
       " 'https://www.rottentomatoes.com/m/beyond_the_infinite_two_minutes',\n",
       " 'https://www.rottentomatoes.com/m/woodlands_dark_and_days_bewitched_a_history_of_folk_horror',\n",
       " 'https://www.rottentomatoes.com/m/sabaya',\n",
       " 'https://www.rottentomatoes.com/m/two_of_us',\n",
       " 'https://www.rottentomatoes.com/m/luzzu',\n",
       " 'https://www.rottentomatoes.com/m/paper_spiders',\n",
       " 'https://www.rottentomatoes.com/m/the_sparks_brothers',\n",
       " 'https://www.rottentomatoes.com/m/riders_of_justice',\n",
       " 'https://www.rottentomatoes.com/m/mass_2021',\n",
       " 'https://www.rottentomatoes.com/m/the_velvet_underground_2021',\n",
       " 'https://www.rottentomatoes.com/m/im_your_man_2021',\n",
       " 'https://www.rottentomatoes.com/m/i_carry_you_with_me',\n",
       " 'https://www.rottentomatoes.com/m/the_paper_tigers',\n",
       " 'https://www.rottentomatoes.com/m/billie_eilish_the_worlds_a_little_blurry',\n",
       " 'https://www.rottentomatoes.com/m/the_lost_leonardo',\n",
       " 'https://www.rottentomatoes.com/m/the_tragedy_of_macbeth_2021',\n",
       " 'https://www.rottentomatoes.com/m/my_heart_cant_beat_unless_you_tell_it_to',\n",
       " 'https://www.rottentomatoes.com/m/days_2021',\n",
       " 'https://www.rottentomatoes.com/m/wheel_of_fortune_and_fantasy',\n",
       " 'https://www.rottentomatoes.com/m/drunk_bus',\n",
       " 'https://www.rottentomatoes.com/m/hope_2021',\n",
       " 'https://www.rottentomatoes.com/m/flee',\n",
       " 'https://www.rottentomatoes.com/m/demon_slayer_kimetsu_no_yaiba_the_movie_mugen_train',\n",
       " 'https://www.rottentomatoes.com/m/playing_with_sharks',\n",
       " 'https://www.rottentomatoes.com/m/language_lessons',\n",
       " 'https://www.rottentomatoes.com/m/rita_moreno_just_a_girl_who_decided_to_go_for_it',\n",
       " 'https://www.rottentomatoes.com/m/the_reason_i_jump',\n",
       " 'https://www.rottentomatoes.com/m/the_green_knight',\n",
       " 'https://www.rottentomatoes.com/m/petite_maman',\n",
       " 'https://www.rottentomatoes.com/m/the_rescue_2021',\n",
       " 'https://www.rottentomatoes.com/m/dune_2021',\n",
       " 'https://www.rottentomatoes.com/m/stray_2021',\n",
       " 'https://www.rottentomatoes.com/m/herself',\n",
       " 'https://www.rottentomatoes.com/m/no_time_to_die_2021',\n",
       " 'https://www.rottentomatoes.com/m/street_gang_how_we_got_to_sesame_street',\n",
       " 'https://www.rottentomatoes.com/m/in_the_same_breath',\n",
       " 'https://www.rottentomatoes.com/m/plan_b_2021',\n",
       " 'https://www.rottentomatoes.com/m/val',\n",
       " 'https://www.rottentomatoes.com/m/candyman_2021',\n",
       " 'https://www.rottentomatoes.com/m/rose_plays_julie',\n",
       " 'https://www.rottentomatoes.com/m/zola',\n",
       " 'https://www.rottentomatoes.com/m/black_widow_2021',\n",
       " 'https://www.rottentomatoes.com/m/old_henry',\n",
       " 'https://www.rottentomatoes.com/m/lapsis',\n",
       " 'https://www.rottentomatoes.com/m/supernova_2021',\n",
       " 'https://www.rottentomatoes.com/m/dear_comrades',\n",
       " 'https://www.rottentomatoes.com/m/mogul_mowgli',\n",
       " 'https://www.rottentomatoes.com/m/the_killing_of_two_lovers',\n",
       " 'https://www.rottentomatoes.com/m/limbo_2021',\n",
       " 'https://www.rottentomatoes.com/m/roadrunner_a_film_about_anthony_bourdain',\n",
       " 'https://www.rottentomatoes.com/m/test_pattern',\n",
       " 'https://www.rottentomatoes.com/m/some_kind_of_heaven',\n",
       " 'https://www.rottentomatoes.com/m/together_together',\n",
       " 'https://www.rottentomatoes.com/m/never_gonna_snow_again',\n",
       " 'https://www.rottentomatoes.com/m/swan_song_2021',\n",
       " 'https://www.rottentomatoes.com/m/tina',\n",
       " 'https://www.rottentomatoes.com/m/pg_psycho_goreman',\n",
       " 'https://www.rottentomatoes.com/m/censor_2021',\n",
       " 'https://www.rottentomatoes.com/m/vhs94',\n",
       " 'https://www.rottentomatoes.com/m/all_light_everywhere',\n",
       " 'https://www.rottentomatoes.com/m/bo_burnham_inside',\n",
       " 'https://www.rottentomatoes.com/m/lily_topples_the_world',\n",
       " 'https://www.rottentomatoes.com/m/martyrs_lane',\n",
       " 'https://www.rottentomatoes.com/m/spring_blossom',\n",
       " 'https://www.rottentomatoes.com/m/pray_away',\n",
       " 'https://www.rottentomatoes.com/m/the_alpinist_2021',\n",
       " 'https://www.rottentomatoes.com/m/the_vigil_2021',\n",
       " 'https://www.rottentomatoes.com/m/raging_fire',\n",
       " 'https://www.rottentomatoes.com/m/wildland_2021',\n",
       " 'https://www.rottentomatoes.com/m/titane',\n",
       " 'https://www.rottentomatoes.com/m/final_account',\n",
       " 'https://www.rottentomatoes.com/m/nobody_2021',\n",
       " 'https://www.rottentomatoes.com/m/the_last_duel_2021',\n",
       " 'https://www.rottentomatoes.com/m/coming_home_in_the_dark',\n",
       " 'https://www.rottentomatoes.com/m/the_dig_2021',\n",
       " 'https://www.rottentomatoes.com/m/the_power_of_the_dog',\n",
       " 'https://www.rottentomatoes.com/m/the_night_house',\n",
       " 'https://www.rottentomatoes.com/m/little_fish_2021',\n",
       " 'https://www.rottentomatoes.com/m/days_of_the_bagnold_summer',\n",
       " 'https://www.rottentomatoes.com/m/nine_days',\n",
       " 'https://www.rottentomatoes.com/m/fear_street_part_three_1666',\n",
       " 'https://www.rottentomatoes.com/m/truman_and_tennessee_an_intimate_conversation']"
      ]
     },
     "execution_count": 14,
     "metadata": {},
     "output_type": "execute_result"
    }
   ],
   "source": [
    "movie_links"
   ]
  },
  {
   "cell_type": "markdown",
   "metadata": {},
   "source": [
    "It takes a few minutes to scrape all the urls"
   ]
  },
  {
   "cell_type": "code",
   "execution_count": 15,
   "metadata": {},
   "outputs": [],
   "source": [
    "def write_lst(lst,file_):\n",
    "    with open(file_,'w') as f:\n",
    "        for l in lst:\n",
    "            f.write(l)\n",
    "            f.write('\\n')"
   ]
  },
  {
   "cell_type": "code",
   "execution_count": 16,
   "metadata": {},
   "outputs": [],
   "source": [
    "movie_urls_file = 'movie_urls.txt'\n",
    "write_lst(movie_links, movie_urls_file)"
   ]
  },
  {
   "cell_type": "code",
   "execution_count": null,
   "metadata": {},
   "outputs": [],
   "source": []
  }
 ],
 "metadata": {
  "kernelspec": {
   "display_name": "Python 3",
   "language": "python",
   "name": "python3"
  },
  "language_info": {
   "codemirror_mode": {
    "name": "ipython",
    "version": 3
   },
   "file_extension": ".py",
   "mimetype": "text/x-python",
   "name": "python",
   "nbconvert_exporter": "python",
   "pygments_lexer": "ipython3",
   "version": "3.6.0"
  }
 },
 "nbformat": 4,
 "nbformat_minor": 2
}
